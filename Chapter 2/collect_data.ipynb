{
 "cells": [
  {
   "cell_type": "markdown",
   "metadata": {},
   "source": [
    "# question 1"
   ]
  },
  {
   "cell_type": "markdown",
   "metadata": {},
   "source": [
    "useful sites\n",
    "\n",
    "\n",
    "https://www.juliabloggers.com/julia-introduction-to-web-scraping-phivolcs-seismic-events/\n",
    "https://riptutorial.com/julia-lang/example/19443/parsing-json"
   ]
  },
  {
   "cell_type": "code",
   "execution_count": 2,
   "metadata": {},
   "outputs": [
    {
     "name": "stderr",
     "output_type": "stream",
     "text": [
      "┌ Info: Precompiling HTTP [cd3eb016-35fb-5094-929b-558a96fad6f3]\n",
      "└ @ Base loading.jl:1186\n"
     ]
    }
   ],
   "source": [
    "using HTTP\n",
    "using JSON"
   ]
  },
  {
   "cell_type": "code",
   "execution_count": 4,
   "metadata": {},
   "outputs": [],
   "source": [
    "url = \"https://api.binance.com/api/v1/time\";\n",
    "res = HTTP.get(url);"
   ]
  },
  {
   "cell_type": "code",
   "execution_count": 7,
   "metadata": {},
   "outputs": [
    {
     "data": {
      "text/plain": [
       "HTTP.Messages.Response:\n",
       "\"\"\"\n",
       "HTTP/1.1 200 OK\r\n",
       "Content-Type: application/json;charset=utf-8\r\n",
       "Transfer-Encoding: chunked\r\n",
       "Connection: keep-alive\r\n",
       "Date: Thu, 02 May 2019 07:36:58 GMT\r\n",
       "Server: nginx\r\n",
       "Vary: Accept-Encoding\r\n",
       "X-MBX-USED-WEIGHT: 2\r\n",
       "Strict-Transport-Security: max-age=31536000; includeSubdomains\r\n",
       "X-Frame-Options: SAMEORIGIN\r\n",
       "X-Xss-Protection: 1; mode=block\r\n",
       "X-Content-Type-Options: nosniff\r\n",
       "Content-Security-Policy: default-src 'self'\r\n",
       "X-Content-Security-Policy: default-src 'self'\r\n",
       "X-WebKit-CSP: default-src 'self'\r\n",
       "Cache-Control: no-cache, no-store, must-revalidate\r\n",
       "Pragma: no-cache\r\n",
       "Expires: 0\r\n",
       "X-Cache: Miss from cloudfront\r\n",
       "Via: 1.1 6884828476070d32978b45d03c1cc437.cloudfront.net (CloudFront)\r\n",
       "X-Amz-Cf-Id: yzv-XEFLNfrPc-sxcarYV1jcP1ZcpOV_DPNdHpp_GoPp3WySilqJSw==\r\n",
       "\r\n",
       "{\"serverTime\":1556782618714}\"\"\""
      ]
     },
     "execution_count": 7,
     "metadata": {},
     "output_type": "execute_result"
    }
   ],
   "source": [
    "res"
   ]
  },
  {
   "cell_type": "code",
   "execution_count": 32,
   "metadata": {},
   "outputs": [
    {
     "ename": "MethodError",
     "evalue": "MethodError: no method matching UInt8(::Array{UInt8,1})\nClosest candidates are:\n  UInt8(!Matched::Union{Bool, Int32, Int64, UInt32, UInt64, UInt8, Int128, Int16, Int8, UInt128, UInt16}) at boot.jl:735\n  UInt8(!Matched::Float32) at float.jl:679\n  UInt8(!Matched::Float64) at float.jl:679\n  ...",
     "output_type": "error",
     "traceback": [
      "MethodError: no method matching UInt8(::Array{UInt8,1})\nClosest candidates are:\n  UInt8(!Matched::Union{Bool, Int32, Int64, UInt32, UInt64, UInt8, Int128, Int16, Int8, UInt128, UInt16}) at boot.jl:735\n  UInt8(!Matched::Float32) at float.jl:679\n  UInt8(!Matched::Float64) at float.jl:679\n  ...",
      "",
      "Stacktrace:",
      " [1] top-level scope at In[32]:1"
     ]
    }
   ],
   "source": []
  },
  {
   "cell_type": "code",
   "execution_count": 12,
   "metadata": {},
   "outputs": [
    {
     "ename": "LoadError",
     "evalue": "syntax: incomplete: premature end of input",
     "output_type": "error",
     "traceback": [
      "syntax: incomplete: premature end of input",
      ""
     ]
    }
   ],
   "source": [
    "JSON."
   ]
  },
  {
   "cell_type": "code",
   "execution_count": 42,
   "metadata": {},
   "outputs": [
    {
     "data": {
      "text/plain": [
       "HTTP.Messages.Response:\n",
       "\"\"\"\n",
       "HTTP/1.1 200 OK\r\n",
       "Content-Type: application/json;charset=utf-8\r\n",
       "Transfer-Encoding: chunked\r\n",
       "Connection: keep-alive\r\n",
       "Date: Thu, 02 May 2019 07:58:48 GMT\r\n",
       "Server: nginx\r\n",
       "Vary: Accept-Encoding\r\n",
       "X-MBX-USED-WEIGHT: 1\r\n",
       "Strict-Transport-Security: max-age=31536000; includeSubdomains\r\n",
       "X-Frame-Options: SAMEORIGIN\r\n",
       "X-Xss-Protection: 1; mode=block\r\n",
       "X-Content-Type-Options: nosniff\r\n",
       "Content-Security-Policy: default-src 'self'\r\n",
       "X-Content-Security-Policy: default-src 'self'\r\n",
       "X-WebKit-CSP: default-src 'self'\r\n",
       "Cache-Control: no-cache, no-store, must-revalidate\r\n",
       "Pragma: no-cache\r\n",
       "Expires: 0\r\n",
       "X-Cache: Miss from cloudfront\r\n",
       "Via: 1.1 77d972a817f766906c971bd07fc786b7.cloudfront.net (CloudFront)\r\n",
       "X-Amz-Cf-Id: WMfRAplGUOXlycR6or5wAwk4Nm84RSr_sW3Yh7tiKwH1JKTQFVZiiQ==\r\n",
       "\r\n",
       "{\"serverTime\":1556783928584}\"\"\""
      ]
     },
     "execution_count": 42,
     "metadata": {},
     "output_type": "execute_result"
    }
   ],
   "source": [
    "r = HTTP.request(\"GET\", url)"
   ]
  },
  {
   "cell_type": "code",
   "execution_count": 43,
   "metadata": {},
   "outputs": [
    {
     "data": {
      "text/plain": [
       "Dict{String,Any} with 1 entry:\n",
       "  \"serverTime\" => 1556783928584"
      ]
     },
     "execution_count": 43,
     "metadata": {},
     "output_type": "execute_result"
    }
   ],
   "source": [
    "data = JSON.parse(String(r.body))"
   ]
  },
  {
   "cell_type": "code",
   "execution_count": 53,
   "metadata": {},
   "outputs": [
    {
     "data": {
      "text/plain": [
       "1.556783928584e12"
      ]
     },
     "execution_count": 53,
     "metadata": {},
     "output_type": "execute_result"
    }
   ],
   "source": [
    "Float64(data[\"serverTime\"])"
   ]
  },
  {
   "cell_type": "markdown",
   "metadata": {},
   "source": [
    "# order book"
   ]
  },
  {
   "cell_type": "markdown",
   "metadata": {},
   "source": [
    "If isBuyerMaker is true for the trade, it means that the order of whoever was on the buy side, was sitting as a bid in the orderbook for some time (so that it was making the market) and then someone came in and matched it immediately (market taker). So, that specific trade will now qualify as SELL and in UI highlight as redish. On the opposite isBuyerMaker=false trade will qualify as BUY and highlight greenish.\n",
    "\n",
    "Other exchanges label trades directly as buy or sell, don't know why Binance chose to approach it from such an awkward angle."
   ]
  },
  {
   "cell_type": "code",
   "execution_count": 58,
   "metadata": {},
   "outputs": [
    {
     "data": {
      "text/plain": [
       "\"/api/v1/trades?symbol=BTCUSDT&limit=5\""
      ]
     },
     "execution_count": 58,
     "metadata": {},
     "output_type": "execute_result"
    }
   ],
   "source": [
    "base_endpoint = \"https://api.binance.com\"\n",
    "tick_endpoint = \"/api/v1/trades?symbol=BTCUSDT&limit=5\"\n"
   ]
  },
  {
   "cell_type": "code",
   "execution_count": 87,
   "metadata": {},
   "outputs": [
    {
     "name": "stdout",
     "output_type": "stream",
     "text": [
      "Any[Dict{String,Any}(\"price\"=>\"5429.52000000\",\"time\"=>1556792709199,\"quoteQty\"=>\"12.02638680\",\"isBestMatch\"=>true,\"id\"=>117452596,\"isBuyerMaker\"=>false,\"qty\"=>\"0.00221500\"), Dict{String,Any}(\"price\"=>\"5429.11000000\",\"time\"=>1556792709392,\"quoteQty\"=>\"30.62018040\",\"isBestMatch\"=>true,\"id\"=>117452597,\"isBuyerMaker\"=>true,\"qty\"=>\"0.00564000\"), Dict{String,Any}(\"price\"=>\"5429.13000000\",\"time\"=>1556792710549,\"quoteQty\"=>\"591.41684742\",\"isBestMatch\"=>true,\"id\"=>117452598,\"isBuyerMaker\"=>true,\"qty\"=>\"0.10893400\"), Dict{String,Any}(\"price\"=>\"5429.13000000\",\"time\"=>1556792710664,\"quoteQty\"=>\"418.42847823\",\"isBestMatch\"=>true,\"id\"=>117452599,\"isBuyerMaker\"=>true,\"qty\"=>\"0.07707100\"), Dict{String,Any}(\"price\"=>\"5429.37000000\",\"time\"=>1556792710974,\"quoteQty\"=>\"1268.07279846\",\"isBestMatch\"=>true,\"id\"=>117452600,\"isBuyerMaker\"=>true,\"qty\"=>\"0.23355800\")]\n"
     ]
    }
   ],
   "source": [
    "function get_data()\n",
    "    response = HTTP.get(base_endpoint*tick_endpoint)\n",
    "    data = JSON.parse(String(response.body))\n",
    "    println(data)\n",
    "end\n",
    "    \n",
    "get_data()"
   ]
  },
  {
   "cell_type": "code",
   "execution_count": 85,
   "metadata": {},
   "outputs": [
    {
     "ename": "LoadError",
     "evalue": "syntax: invalid iteration specification",
     "output_type": "error",
     "traceback": [
      "syntax: invalid iteration specification",
      ""
     ]
    }
   ],
   "source": []
  },
  {
   "cell_type": "code",
   "execution_count": null,
   "metadata": {},
   "outputs": [],
   "source": []
  }
 ],
 "metadata": {
  "kernelspec": {
   "display_name": "Julia 1.1.0",
   "language": "julia",
   "name": "julia-1.1"
  },
  "language_info": {
   "file_extension": ".jl",
   "mimetype": "application/julia",
   "name": "julia",
   "version": "1.1.0"
  }
 },
 "nbformat": 4,
 "nbformat_minor": 2
}
